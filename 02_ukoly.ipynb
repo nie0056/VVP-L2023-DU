{
 "cells": [
  {
   "attachments": {},
   "cell_type": "markdown",
   "metadata": {},
   "source": [
    "# Prostory jmen a obor platnosti proměnných:\n",
    "- Upravte funkci nalézající prvočísla tak, aby ukládala již spočítané prvočísla do listu v defaultním argumentu funkce. \n"
   ]
  },
  {
   "cell_type": "code",
   "execution_count": 1,
   "metadata": {},
   "outputs": [],
   "source": [
    "def prvocisla(n: int, l = []) -> list:\n",
    "\n",
    "    if len(l) >= n:\n",
    "\n",
    "        return l[:n]\n",
    "\n",
    "    p = 2 if len(l) == 0 else prvocisla.__defaults__[0][-1] + 1\n",
    "\n",
    "    while len(l) < n:\n",
    "\n",
    "        found = True\n",
    "\n",
    "        for i in range(2, int(p/2) + 1):\n",
    "\n",
    "            if p % i == 0:\n",
    "\n",
    "                found = False\n",
    "\n",
    "                break\n",
    "        \n",
    "        if found:\n",
    "\n",
    "            l.append(p)\n",
    "\n",
    "        p += 1\n",
    "\n",
    "    return l"
   ]
  },
  {
   "cell_type": "code",
   "execution_count": 2,
   "metadata": {},
   "outputs": [
    {
     "name": "stdout",
     "output_type": "stream",
     "text": [
      "[2, 3, 5, 7, 11, 13]\n",
      "([2, 3, 5, 7, 11, 13],)\n",
      "[2, 3, 5, 7, 11, 13, 17, 19]\n",
      "([2, 3, 5, 7, 11, 13, 17, 19],)\n"
     ]
    }
   ],
   "source": [
    "print(prvocisla(6))\n",
    "\n",
    "print(prvocisla.__defaults__)\n",
    "\n",
    "print(prvocisla(8))\n",
    "\n",
    "print(prvocisla.__defaults__)"
   ]
  },
  {
   "attachments": {},
   "cell_type": "markdown",
   "metadata": {},
   "source": [
    "\n",
    "# Jupyter magics:\n",
    "- použijte funkci %%writefile a pomocí ní (a kopie funkcí z posledního DU) vytvořte .py soubor sloužící jako modul mající tři funkce viz minulý DU\n",
    "- Použijte magic příkazy %time %timeit %%time a %%timeit k měření času běhu různých částí kódu (například funkcí z minulého DU).\n"
   ]
  },
  {
   "cell_type": "code",
   "execution_count": 3,
   "metadata": {},
   "outputs": [
    {
     "name": "stdout",
     "output_type": "stream",
     "text": [
      "Writing test_modul.py\n"
     ]
    }
   ],
   "source": [
    "%%writefile test_modul.py\n",
    "def faktorial(n: int) -> int:\n",
    "    \n",
    "    f = 1\n",
    "\n",
    "    for i in range(n):\n",
    "\n",
    "        f *= i + 1\n",
    "\n",
    "    return f\n",
    "\n",
    "def prumer(l: list) -> int:\n",
    "\n",
    "    p = 0\n",
    "\n",
    "    n = len(l)\n",
    "\n",
    "    for i in l:\n",
    "\n",
    "        p += i\n",
    "\n",
    "    return p/n\n",
    "\n",
    "def prvocisla(n: int) -> list:\n",
    "\n",
    "    l = []\n",
    "\n",
    "    p = 2\n",
    "\n",
    "    while len(l) < n:\n",
    "\n",
    "        found = True\n",
    "\n",
    "        for i in range(2, int(p/2) + 1):\n",
    "\n",
    "            if p % i == 0:\n",
    "\n",
    "                found = False\n",
    "\n",
    "                break\n",
    "        \n",
    "        if found:\n",
    "\n",
    "            l.append(p)\n",
    "\n",
    "        p += 1\n",
    "\n",
    "    return l"
   ]
  },
  {
   "cell_type": "code",
   "execution_count": 4,
   "metadata": {},
   "outputs": [
    {
     "name": "stdout",
     "output_type": "stream",
     "text": [
      "24\n",
      "2.0\n",
      "[2, 3, 5, 7, 11, 13]\n"
     ]
    }
   ],
   "source": [
    "import test_modul\n",
    "\n",
    "print(test_modul.faktorial(4))\n",
    "\n",
    "print(test_modul.prumer([1,2,3]))\n",
    "\n",
    "print(test_modul.prvocisla(6))"
   ]
  },
  {
   "cell_type": "code",
   "execution_count": 5,
   "metadata": {},
   "outputs": [
    {
     "name": "stdout",
     "output_type": "stream",
     "text": [
      "CPU times: user 17 µs, sys: 12 µs, total: 29 µs\n",
      "Wall time: 31 µs\n"
     ]
    },
    {
     "data": {
      "text/plain": [
       "[2, 3, 5, 7, 11, 13]"
      ]
     },
     "execution_count": 5,
     "metadata": {},
     "output_type": "execute_result"
    }
   ],
   "source": [
    "%time test_modul.prvocisla(6)"
   ]
  },
  {
   "cell_type": "code",
   "execution_count": 6,
   "metadata": {},
   "outputs": [
    {
     "name": "stdout",
     "output_type": "stream",
     "text": [
      "637 µs ± 24.1 µs per loop (mean ± std. dev. of 7 runs, 1,000 loops each)\n"
     ]
    }
   ],
   "source": [
    "%timeit test_modul.prvocisla(100)"
   ]
  },
  {
   "cell_type": "code",
   "execution_count": 7,
   "metadata": {},
   "outputs": [
    {
     "name": "stdout",
     "output_type": "stream",
     "text": [
      "CPU times: user 24 µs, sys: 0 ns, total: 24 µs\n",
      "Wall time: 26.2 µs\n"
     ]
    },
    {
     "data": {
      "text/plain": [
       "[2, 3, 5, 7, 11, 13]"
      ]
     },
     "execution_count": 7,
     "metadata": {},
     "output_type": "execute_result"
    }
   ],
   "source": [
    "%%time\n",
    "test_modul.faktorial(4)\n",
    "test_modul.prumer([1,2,3])\n",
    "test_modul.prvocisla(6)"
   ]
  },
  {
   "cell_type": "code",
   "execution_count": 8,
   "metadata": {},
   "outputs": [
    {
     "name": "stdout",
     "output_type": "stream",
     "text": [
      "5.12 µs ± 64.5 ns per loop (mean ± std. dev. of 7 runs, 100,000 loops each)\n"
     ]
    }
   ],
   "source": [
    "%%timeit\n",
    "test_modul.faktorial(4)\n",
    "test_modul.prumer([1,2,3])\n",
    "test_modul.prvocisla(6)"
   ]
  },
  {
   "cell_type": "code",
   "execution_count": 9,
   "metadata": {},
   "outputs": [],
   "source": [
    "%rm -f test_modul.py"
   ]
  },
  {
   "cell_type": "markdown",
   "metadata": {},
   "source": [
    "\n",
    "# Práce s řetězci:\n",
    "\n",
    "- Použíjte funkce z minulého úkolu a v cyklu spočtěte $\\pi$ s různým $n$. Pomocí f-strings vypište výsledky ve formátu \"n = 5, pi = 3.14159, počet správných cifer = 5\".\n"
   ]
  },
  {
   "cell_type": "code",
   "execution_count": 10,
   "metadata": {},
   "outputs": [],
   "source": [
    "from decimal import getcontext, Decimal as D\n",
    "\n",
    "import math\n",
    "\n",
    "def odmocnina(a, n):\n",
    "\n",
    "    x = a\n",
    "\n",
    "    for i in range(n):\n",
    "\n",
    "        x = ((a/x) + x)/D(2)\n",
    "\n",
    "    return x\n",
    "\n",
    "def aproximace_pi(n: int):\n",
    "    \n",
    "    a_n = D(1)\n",
    "\n",
    "    b_n = D(1)\n",
    "\n",
    "    v_n = odmocnina((a_n**D(2)) - ((b_n/D(2))**D(2)), 100)\n",
    "\n",
    "    for i in range(n):\n",
    "        \n",
    "        b_n = odmocnina(((b_n/D(2))**D(2)) + ((D(1) - v_n)**D(2)), 100)\n",
    "\n",
    "        v_n = odmocnina((a_n**D(2)) - ((b_n/D(2))**D(2)), 100)\n",
    "\n",
    "    return D(6)*(D(2)**D(n))*b_n*(v_n/D(2))\n",
    "\n",
    "def aproximace_pi_newton(n: int):\n",
    "\n",
    "    a_i = (D(1)/D(2))*(D(1)/(D(2)**D(3)))\n",
    "\n",
    "    sum = (D(1)/(D(2)*D(1) + D(1)))*a_i\n",
    "\n",
    "    for i in range(2, n + 1):\n",
    "\n",
    "        a_i = a_i*(((D(2)*D(i)) - D(3))/(D(2)*D(i)))*(D(1)/(D(2)**D(2)))\n",
    "\n",
    "        sum += (D(1)/(D(2)*D(i) + D(1)))*a_i\n",
    "\n",
    "    return D(12)*((-(odmocnina(D(3), 1000)/D(8))) + (D(1)/D(2)) - sum)"
   ]
  },
  {
   "cell_type": "code",
   "execution_count": 11,
   "metadata": {},
   "outputs": [],
   "source": [
    "getcontext().prec = 100\n",
    "\n",
    "pi_1000d = D(\"3.141592653589793238462643383279\\\n",
    "5028841971693993\\\n",
    "7510582097494459230781640628620899862803482534\\\n",
    "2117067982148086513282306647093844609550582231\\\n",
    "7253594081284811174502841027019385211055596446\\\n",
    "2294895493038196442881097566593344612847564823\\\n",
    "3786783165271201909145648566923460348610454326\\\n",
    "6482133936072602491412737245870066063155881748\\\n",
    "8152092096282925409171536436789259036001133053\\\n",
    "0548820466521384146951941511609433057270365759\\\n",
    "5919530921861173819326117931051185480744623799\\\n",
    "6274956735188575272489122793818301194912983367\\\n",
    "3362440656643086021394946395224737190702179860\\\n",
    "9437027705392171762931767523846748184676694051\\\n",
    "3200056812714526356082778577134275778960917363\\\n",
    "7178721468440901224953430146549585371050792279\\\n",
    "6892589235420199561121290219608640344181598136\\\n",
    "2977477130996051870721134999999837297804995105\\\n",
    "9731732816096318595024459455346908302642522308\\\n",
    "2533446850352619311881710100031378387528865875\\\n",
    "3320838142061717766914730359825349042875546873\\\n",
    "1159562863882353787593751957781857780532171226\\\n",
    "806613001927876611195909216420199\")"
   ]
  },
  {
   "cell_type": "code",
   "execution_count": 12,
   "metadata": {},
   "outputs": [
    {
     "name": "stdout",
     "output_type": "stream",
     "text": [
      "n = 10, pi = 3.141592                , pocet spravnych cifer = 6  (uhelniky)\n",
      "n = 10, pi = 3.141592654             , pocet spravnych cifer = 9  (newton)\n",
      "n = 20, pi = 3.141592653589          , pocet spravnych cifer = 12 (uhelniky)\n",
      "n = 20, pi = 3.141592653589793       , pocet spravnych cifer = 15 (newton)\n",
      "n = 30, pi = 3.141592653589793238    , pocet spravnych cifer = 18 (uhelniky)\n",
      "n = 30, pi = 3.1415926535897932384627, pocet spravnych cifer = 22 (newton)\n"
     ]
    }
   ],
   "source": [
    "for i in range(10, 31, 10):\n",
    "\n",
    "    pi_approx = aproximace_pi(i)\n",
    "    pi_approx_newton = aproximace_pi_newton(i)\n",
    "\n",
    "    p = math.floor(- abs(pi_1000d - pi_approx).log10())\n",
    "    p_newton = math.floor(- abs(pi_1000d - pi_approx_newton).log10())\n",
    "\n",
    "    pi_approx = round(pi_approx, p)\n",
    "    pi_approx_newton = round(pi_approx_newton, p_newton)\n",
    "\n",
    "    print(f\"n = {i:<2}, pi = {pi_approx:<24}, pocet spravnych cifer = {p:<2} (uhelniky)\")\n",
    "    print(f\"n = {i:<2}, pi = {pi_approx_newton:<24}, pocet spravnych cifer = {p_newton:<2} (newton)\")"
   ]
  },
  {
   "cell_type": "markdown",
   "metadata": {},
   "source": [
    "\n",
    "# Generátory a iterátory:\n",
    "\n",
    "- Napište generátor (funkci), který vytváří Fibonacciho posloupnost a vrátí prvních $n$ členů.\n"
   ]
  },
  {
   "cell_type": "code",
   "execution_count": 13,
   "metadata": {},
   "outputs": [],
   "source": [
    "def generator_fibonacci(n: int):\n",
    "\n",
    "    a1 = 0\n",
    "\n",
    "    a2 = 1\n",
    "\n",
    "    if n >= 1:\n",
    "\n",
    "        yield a1\n",
    "\n",
    "    if n >= 2:\n",
    "\n",
    "        yield a2\n",
    "\n",
    "    for i in range(3, n + 1):\n",
    "\n",
    "        a3 = a2 + a1\n",
    "        \n",
    "        a1 = a2\n",
    "\n",
    "        a2 = a3\n",
    "\n",
    "        yield a3"
   ]
  },
  {
   "cell_type": "code",
   "execution_count": 14,
   "metadata": {},
   "outputs": [
    {
     "name": "stdout",
     "output_type": "stream",
     "text": [
      "0\n",
      "1\n",
      "1\n",
      "2\n",
      "3\n",
      "5\n",
      "8\n",
      "13\n"
     ]
    }
   ],
   "source": [
    "for i in generator_fibonacci(8):\n",
    "\n",
    "    print(i)"
   ]
  },
  {
   "cell_type": "markdown",
   "metadata": {},
   "source": [
    "\n",
    "# List comprehension:\n",
    "- Vytvořte seznam čísel od 1 do 10 pomocí list comprehension.\n",
    "- Vytvořte seznam druhých mocnin čísel od 1 do 10 pomocí list comprehension.\n",
    "- Vytvořte seznam prvočísel od 1 do 100 pomocí list comprehension. Hint (použijte funkci all() na generátor testující dělitelnost).\n"
   ]
  },
  {
   "cell_type": "code",
   "execution_count": 15,
   "metadata": {},
   "outputs": [
    {
     "name": "stdout",
     "output_type": "stream",
     "text": [
      "[1, 2, 3, 4, 5, 6, 7, 8, 9, 10]\n"
     ]
    }
   ],
   "source": [
    "nums = [ i for i in range(1, 11) ]\n",
    "\n",
    "print(nums)"
   ]
  },
  {
   "cell_type": "code",
   "execution_count": 16,
   "metadata": {},
   "outputs": [
    {
     "name": "stdout",
     "output_type": "stream",
     "text": [
      "[1, 4, 9, 16, 25, 36, 49, 64, 81, 100]\n"
     ]
    }
   ],
   "source": [
    "squared_nums = [ i**2 for i in nums ]\n",
    "\n",
    "print(squared_nums)"
   ]
  },
  {
   "cell_type": "code",
   "execution_count": 17,
   "metadata": {},
   "outputs": [],
   "source": [
    "def generator_modulo(n: int):\n",
    "\n",
    "    if n == 1:\n",
    "\n",
    "        yield False\n",
    "\n",
    "    elif (n == 2) or (n == 3):\n",
    "\n",
    "        yield True\n",
    "\n",
    "    else:\n",
    "\n",
    "        for i in range(2, int(n/2) + 1):\n",
    "\n",
    "            yield True if n % i != 0 else False"
   ]
  },
  {
   "cell_type": "code",
   "execution_count": 18,
   "metadata": {},
   "outputs": [
    {
     "name": "stdout",
     "output_type": "stream",
     "text": [
      "[2, 3, 5, 7, 11, 13, 17, 19, 23, 29, 31, 37, 41, 43, 47, 53, 59, 61, 67, 71, 73, 79, 83, 89, 97]\n"
     ]
    }
   ],
   "source": [
    "prime_nums = [ i for i in range(1, 101) if all(generator_modulo(i)) ]\n",
    "\n",
    "print(prime_nums)"
   ]
  },
  {
   "cell_type": "markdown",
   "metadata": {},
   "source": [
    "\n",
    "# Práce se soubory:\n",
    "- Pomocí %%writefile vytvořte soubor s nějakým textem.\n",
    "- Otevřete soubor pro čtení a vypište jeho obsah.\n",
    "- Otevřete jiný soubor pro zápis a napište do něj textový řetězec.\n",
    "- Pomocí f-strings zapište do souboru tabulku čísel od 1 do 10, jejich druhých mocnin a jejich druhých odmocnin."
   ]
  },
  {
   "cell_type": "code",
   "execution_count": 19,
   "metadata": {},
   "outputs": [
    {
     "name": "stdout",
     "output_type": "stream",
     "text": [
      "Writing test.txt\n"
     ]
    }
   ],
   "source": [
    "%%writefile test.txt\n",
    "Reach out, touch faith\n",
    "Your own personal Jesus\n",
    "Someone to hear your prayers\n",
    "Someone who cares\n",
    "Your own personal Jesus\n",
    "Someone to hear your prayers\n",
    "Someone whos there\n",
    "Song: Personal Jesus, Band: Depeche Mode"
   ]
  },
  {
   "cell_type": "code",
   "execution_count": 20,
   "metadata": {},
   "outputs": [
    {
     "name": "stdout",
     "output_type": "stream",
     "text": [
      "Reach out, touch faith\n",
      "Your own personal Jesus\n",
      "Someone to hear your prayers\n",
      "Someone who cares\n",
      "Your own personal Jesus\n",
      "Someone to hear your prayers\n",
      "Someone whos there\n",
      "Song: Personal Jesus, Band: Depeche Mode\n"
     ]
    }
   ],
   "source": [
    "with open(\"test.txt\", \"r\") as file:\n",
    "    \n",
    "    for line in file:\n",
    "\n",
    "        print(line, end=\"\")"
   ]
  },
  {
   "cell_type": "code",
   "execution_count": 21,
   "metadata": {},
   "outputs": [],
   "source": [
    "%rm -f test.txt"
   ]
  },
  {
   "cell_type": "code",
   "execution_count": 22,
   "metadata": {},
   "outputs": [],
   "source": [
    "with open(\"test_write.txt\", \"w\", newline=\"\") as file:\n",
    "\n",
    "    file.write(\"Hello World!\")"
   ]
  },
  {
   "cell_type": "code",
   "execution_count": 23,
   "metadata": {},
   "outputs": [],
   "source": [
    "%rm -f test_write.txt"
   ]
  },
  {
   "cell_type": "code",
   "execution_count": 24,
   "metadata": {},
   "outputs": [],
   "source": [
    "from math import sqrt\n",
    "\n",
    "with open(\"mocniny_odmocniny.csv\", \"w\", newline=\"\") as file:\n",
    "\n",
    "    file.write(\"cislo, mocnina, odmocnina \\n\")\n",
    "\n",
    "    for i in range(1, 11):\n",
    "\n",
    "        file.write(f\"{i:<5}, {i*i:<7}, {sqrt(i):.2f} \\n\")"
   ]
  },
  {
   "cell_type": "code",
   "execution_count": 25,
   "metadata": {},
   "outputs": [],
   "source": [
    "%rm -f mocniny_odmocniny.csv"
   ]
  },
  {
   "attachments": {},
   "cell_type": "markdown",
   "metadata": {},
   "source": [
    "# Domácí úkol:\n",
    "Pomocí vlastních tříd a dědičnosti vytvořte \"soubor tříd\" = nástroj pro derivaci funkcí.\n",
    "\n",
    "Konkrétněji:\n",
    "- Vytvořte třídu **Operator**\n",
    "    - Třída bude mít metody:\n",
    "        - `__init__()` - inicializuje operátor (zde stačí `pass`)\n",
    "        - `__str__()` - vrací řetězec reprezentující operátor\n",
    "        - `__repr__()` - vrací řetězec reprezentující operátor\n",
    "- Vytvořte třídu **BinaryOperator**, která bude dědit od třídy Operator\n",
    "    - Třída bude mít atributy:\n",
    "        - `levy_argument` - levý operand\n",
    "        - `pravy_argument` - pravý operand\n",
    "    - Třída bude mít metody:\n",
    "        - `__init__()` - inicializuje operátor, přiřadí argumenty\n",
    "        - `__str__()` - vrací řetězec reprezentující operátor\n",
    "        - `__repr__()` - vrací řetězec reprezentující operátor\n",
    "        - `diff()` - vrací derivaci operátoru\n",
    "- Vytvořte třídu **UnaryOperator**, která bude dědit od třídy Operator\n",
    "    - Třída bude mít atributy:\n",
    "        - `argument` - argument funkce \n",
    "    - Třída bude mít metody:\n",
    "        - `__init__()` - inicializuje operátor, přiřadí argument\n",
    "        - `__str__()` - vrací řetězec reprezentující operátor\n",
    "        - `__repr__()` - vrací řetězec reprezentující operátor\n",
    "        - `diff()` - vrací derivaci operátoru\n",
    "\n",
    "Pro počítání derivací použijte standardní pravidla:\n",
    "- derivace součtu je součet derivací\n",
    "- pravidlo pro derivaci součinu\n",
    "- derivace funkce je derivovaná funkce násobená derivovaným argumentem\n",
    "\n",
    "Pro **BinaryOperator** a **UnaryOperator** implementujte také metody implementující standardní operátory:\n",
    "- `__add__()` - implementuje operátor `+`\n",
    "- `__sub__()` - implementuje operátor `-`\n",
    "- `__mul__()` - implementuje operátor `*`\n",
    "\n",
    "Pro **BinaryOperator** implementujte dvě dceřiné třídy:\n",
    "- **Addition** - implementuje operátor `+`\n",
    "- **Multiplication** - implementuje operátor `*`\n",
    "\n",
    "Pro **UnaryOperator** implementujte tyto dceřiné třídy:\n",
    "- **exp** - implementuje funkci `exp`\n",
    "- **sin** - implementuje funkci `sin`\n",
    "- **cos** - implementuje funkci `cos`\n",
    "- **ln** - implementuje funkci `ln`\n",
    "- **frc** - implementuje funkci `1/x`\n",
    "- **identity** - implementuje identitu `x`\n",
    "- **cst** - implementuje konstantu `c`\n",
    "- **mocnina** - implementuje mocninu `x^n`\n",
    "\n",
    "U všech funckí implementujte adekvátně metodu `diff()` a `__str__()`, tak aby se funkce vypisovaly v přehledné podobě.\n",
    "\n",
    "Ozkoušejte na následujících funkcích:\n",
    "- $sin(x + cos(x*x)) + 1$\n",
    "- $x^2 + 2x + 1 + 2x^2$\n",
    "- $x^2 + 2x + exp(x)$"
   ]
  },
  {
   "cell_type": "code",
   "execution_count": 26,
   "metadata": {},
   "outputs": [],
   "source": [
    "# kostra k doplnění, místa označená TODO doplňte\n",
    "\n",
    "class Operator:\n",
    "    def __init__(self):\n",
    "        pass\n",
    "    \n",
    "    def __str__(self):\n",
    "        return type(self).__name__\n",
    "    \n",
    "    def __repr__(self):\n",
    "        return self.__str__()\n",
    "    \n",
    "    def diff(self):\n",
    "        pass\n",
    "    \n",
    "    def __add__(self, other):\n",
    "        # TODO (použijte Addition)\n",
    "        return Addition(self, other)\n",
    "    \n",
    "    def __sub__(self, other):\n",
    "        # TODO (použijte Addition a Multiplication se zápornou konstantu)\n",
    "        return Addition(self, Multiplication(cst(-1), other))\n",
    "    \n",
    "    def __mul__(self, other):\n",
    "        # TODO (použijte Multiplication)\n",
    "        return Multiplication(self, other)\n",
    "    \n",
    "class BinaryOperator(Operator):\n",
    "    def __init__(self, levy_argument, pravy_argument):\n",
    "        self.levy_argument = levy_argument\n",
    "        self.pravy_argument = pravy_argument\n",
    "        \n",
    "class UnaryOperator(Operator):\n",
    "    def __init__(self, argument):\n",
    "        self.argument = argument\n",
    "    \n",
    "    def __str__(self):\n",
    "        return type(self).__name__ + \"(\" + str(self.argument) + \")\"\n",
    "        \n",
    "class Addition(BinaryOperator):\n",
    "    def __str__(self):\n",
    "        # TODO vypíšeme něco jako (levy_argument)+(pravy_argument)\n",
    "        return f\"{self.levy_argument} + {self.pravy_argument}\"\n",
    "    def diff(self):\n",
    "        # TODO\n",
    "        return Addition(self.levy_argument.diff(), self.pravy_argument.diff())\n",
    "    \n",
    "class Multiplication(BinaryOperator):\n",
    "    def __str__(self):\n",
    "        # TODO vypíšeme něco jako (levy_argument)*(pravy_argument)\n",
    "        return f\"({self.levy_argument})*({self.pravy_argument})\"\n",
    "    def diff(self):\n",
    "        # TODO\n",
    "        return Addition(Multiplication(self.levy_argument.diff(), self.pravy_argument),\n",
    "                        Multiplication(self.levy_argument, self.pravy_argument.diff()))\n",
    "    \n",
    "class cst(UnaryOperator):\n",
    "    def __init__(self, value):\n",
    "        self.value = value\n",
    "    def __str__(self):\n",
    "        # TODO vypíšeme něco jako value\n",
    "        return str(self.value)\n",
    "    def diff(self):\n",
    "        # TODO\n",
    "        return cst(0)\n",
    "    \n",
    "class identity(UnaryOperator):\n",
    "    def __init__(self):\n",
    "        pass\n",
    "    def __str__(self):\n",
    "        # TODO vypíšeme něco jako x   \n",
    "        return \"x\"\n",
    "    def diff(self):\n",
    "        # TODO\n",
    "        return cst(1)\n",
    "    \n",
    "class mocnina(UnaryOperator):\n",
    "    def __init__(self, argument, exponent):\n",
    "        self.argument = argument\n",
    "        self.exponent = exponent\n",
    "    def __str__(self):\n",
    "        # TODO vypíšeme něco jako argument^exponent\n",
    "        return f\"({self.argument})^{self.exponent}\"\n",
    "    def diff(self):\n",
    "        # TODO\n",
    "        return Multiplication(Multiplication(cst(self.exponent), mocnina(self.argument, self.exponent - 1)), self.argument.diff())\n",
    "    \n",
    "class sin(UnaryOperator):\n",
    "    def diff(self):\n",
    "        # TODO\n",
    "        return Multiplication(cos(self.argument), self.argument.diff())\n",
    "\n",
    "class cos(UnaryOperator):\n",
    "    def diff(self):\n",
    "        # TODO\n",
    "        return Multiplication(Multiplication(cst(-1), sin(self.argument)), self.argument.diff())\n",
    "\n",
    "class exp(UnaryOperator):\n",
    "    def diff(self):\n",
    "        # TODO\n",
    "        return Multiplication(self, self.argument.diff())\n",
    "    \n",
    "class ln(UnaryOperator):\n",
    "    def diff(self):\n",
    "        # TODO\n",
    "        return Multiplication(frc(self.argument), self.argument.diff())\n",
    "\n",
    "class frc(UnaryOperator):\n",
    "    def __str__(self):\n",
    "        # TODO vypíšeme něco jako 1/(argument)\n",
    "        return f\"1/({self.argument})\"\n",
    "\n",
    "    def diff(self):\n",
    "        # TODO\n",
    "        return Multiplication(cst(-1), frc(mocnina(self.argument, 2)))"
   ]
  },
  {
   "cell_type": "code",
   "execution_count": 27,
   "metadata": {},
   "outputs": [
    {
     "name": "stdout",
     "output_type": "stream",
     "text": [
      "sin(x + cos((x)*(x))) + 1\n",
      "(cos(x + cos((x)*(x))))*(1 + ((-1)*(sin((x)*(x))))*((1)*(x) + (x)*(1))) + 0\n"
     ]
    }
   ],
   "source": [
    "# takto by se to mělo používat\n",
    "x = identity()\n",
    "# sin(x + cos(x*x)) + 1\n",
    "f1 = sin(x + cos(x*x)) + cst(1)\n",
    "print(f1)\n",
    "print(f1.diff())"
   ]
  },
  {
   "attachments": {},
   "cell_type": "markdown",
   "metadata": {},
   "source": [
    "můj výstup byl:\n",
    "\n",
    "`sin(x + cos((x)*(x))) + 1`\n",
    "\n",
    "`(cos(x + cos((x)*(x))))*(1 + ((-1)*(sin((x)*(x))))*((1)*(x) + (x)*(1))) + 0`"
   ]
  },
  {
   "cell_type": "code",
   "execution_count": 28,
   "metadata": {},
   "outputs": [
    {
     "name": "stdout",
     "output_type": "stream",
     "text": [
      "(x)^2 + (2)*(x) + 1 + (2)*((x)^2)\n",
      "((2)*((x)^1))*(1) + (0)*(x) + (2)*(1) + 0 + (0)*((x)^2) + (2)*(((2)*((x)^1))*(1))\n"
     ]
    }
   ],
   "source": [
    "x = identity()\n",
    "# x ^ 2 + 2x + 1 + 2x ^ 2\n",
    "f2 = mocnina(x,2) + cst(2)*x + cst(1) + cst(2)*mocnina(x,2)\n",
    "print(f2)\n",
    "print(f2.diff())\n"
   ]
  },
  {
   "attachments": {},
   "cell_type": "markdown",
   "metadata": {},
   "source": [
    "můj výstup byl:\n",
    "\n",
    "`(x)^2 + (2)*(x) + 1 + (2)*((x)^2)`\n",
    "\n",
    "`((2)*((x)^1))*(1) + (0)*(x) + (2)*(1) + 0 + (0)*((x)^2) + (2)*(((2)*((x)^1))*(1))`"
   ]
  },
  {
   "cell_type": "code",
   "execution_count": 29,
   "metadata": {},
   "outputs": [
    {
     "name": "stdout",
     "output_type": "stream",
     "text": [
      "(x)^2 + (2)*(x) + exp(x)\n",
      "((2)*((x)^1))*(1) + (0)*(x) + (2)*(1) + (exp(x))*(1)\n"
     ]
    }
   ],
   "source": [
    "x = identity()\n",
    "# x ^ 2 + 2x + exp(x)\n",
    "f3 = mocnina(x,2) + cst(2)*x + exp(x)\n",
    "print(f3)\n",
    "print(f3.diff())\n"
   ]
  },
  {
   "attachments": {},
   "cell_type": "markdown",
   "metadata": {},
   "source": [
    "můj výstup byl:\n",
    "\n",
    "`(x)^2 + (2)*(x) + exp(x)`\n",
    "\n",
    "`((2)*((x)^1))*(1) + (0)*(x) + (2)*(1) + (exp(x))*(1)`\n"
   ]
  },
  {
   "attachments": {},
   "cell_type": "markdown",
   "metadata": {},
   "source": [
    "# Bonusový úkol:\n",
    "Doplňte ke všem třídám metodu `simplify()`, která provede zjednodušení výrazu. Například:\n",
    "- součet s nulou vrátí druhý operand\n",
    "- součin s nulou vrátí nulu\n",
    "- mocnina s exponentem 0 vrátí 1\n",
    "- mocnina s exponentem 1 vrátí první argument\n",
    "- součín dvou stejných argumentů vrátí mocninu s exponentem 2\n",
    "- součin konstant vrátí konstantu se součinem\n",
    "- ..."
   ]
  },
  {
   "cell_type": "markdown",
   "metadata": {},
   "source": []
  }
 ],
 "metadata": {
  "kernelspec": {
   "display_name": "Python 3",
   "language": "python",
   "name": "python3"
  },
  "language_info": {
   "codemirror_mode": {
    "name": "ipython",
    "version": 3
   },
   "file_extension": ".py",
   "mimetype": "text/x-python",
   "name": "python",
   "nbconvert_exporter": "python",
   "pygments_lexer": "ipython3",
   "version": "3.8.10"
  },
  "orig_nbformat": 4,
  "vscode": {
   "interpreter": {
    "hash": "e7370f93d1d0cde622a1f8e1c04877d8463912d04d973331ad4851f04de6915a"
   }
  }
 },
 "nbformat": 4,
 "nbformat_minor": 2
}
